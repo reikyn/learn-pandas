{
 "cells": [
  {
   "cell_type": "markdown",
   "id": "ddbc8c54",
   "metadata": {},
   "source": [
    "# **Day 04 Practice**"
   ]
  },
  {
   "cell_type": "code",
   "execution_count": 152,
   "id": "5356982e",
   "metadata": {},
   "outputs": [
    {
     "data": {
      "text/html": [
       "<div>\n",
       "<style scoped>\n",
       "    .dataframe tbody tr th:only-of-type {\n",
       "        vertical-align: middle;\n",
       "    }\n",
       "\n",
       "    .dataframe tbody tr th {\n",
       "        vertical-align: top;\n",
       "    }\n",
       "\n",
       "    .dataframe thead th {\n",
       "        text-align: right;\n",
       "    }\n",
       "</style>\n",
       "<table border=\"1\" class=\"dataframe\">\n",
       "  <thead>\n",
       "    <tr style=\"text-align: right;\">\n",
       "      <th></th>\n",
       "      <th>money_str</th>\n",
       "      <th>duration_str</th>\n",
       "      <th>gender</th>\n",
       "      <th>month_str</th>\n",
       "      <th>numeric_and_str</th>\n",
       "      <th>yn_str</th>\n",
       "      <th>numbers_as_object</th>\n",
       "      <th>mixed_type</th>\n",
       "      <th>random_num</th>\n",
       "      <th>random_text</th>\n",
       "    </tr>\n",
       "  </thead>\n",
       "  <tbody>\n",
       "    <tr>\n",
       "      <th>0</th>\n",
       "      <td>10,000</td>\n",
       "      <td>5 days</td>\n",
       "      <td>M</td>\n",
       "      <td>2021-12</td>\n",
       "      <td>100</td>\n",
       "      <td>1</td>\n",
       "      <td>1</td>\n",
       "      <td>10</td>\n",
       "      <td>5</td>\n",
       "      <td>apple</td>\n",
       "    </tr>\n",
       "    <tr>\n",
       "      <th>1</th>\n",
       "      <td>15,500</td>\n",
       "      <td>10 days</td>\n",
       "      <td>F</td>\n",
       "      <td>2022-01</td>\n",
       "      <td>200</td>\n",
       "      <td>0</td>\n",
       "      <td>2</td>\n",
       "      <td>20.5</td>\n",
       "      <td>10</td>\n",
       "      <td>banana</td>\n",
       "    </tr>\n",
       "    <tr>\n",
       "      <th>2</th>\n",
       "      <td>2,300</td>\n",
       "      <td>3 hours</td>\n",
       "      <td>O</td>\n",
       "      <td>2022-02</td>\n",
       "      <td>abc</td>\n",
       "      <td>Yes</td>\n",
       "      <td>3</td>\n",
       "      <td>xyz</td>\n",
       "      <td>15</td>\n",
       "      <td>cherry</td>\n",
       "    </tr>\n",
       "    <tr>\n",
       "      <th>3</th>\n",
       "      <td>7,800</td>\n",
       "      <td>45 minutes</td>\n",
       "      <td>M</td>\n",
       "      <td>2022-03</td>\n",
       "      <td>300</td>\n",
       "      <td>No</td>\n",
       "      <td>4</td>\n",
       "      <td>None</td>\n",
       "      <td>20</td>\n",
       "      <td>date</td>\n",
       "    </tr>\n",
       "  </tbody>\n",
       "</table>\n",
       "</div>"
      ],
      "text/plain": [
       "  money_str duration_str gender month_str numeric_and_str yn_str  \\\n",
       "0    10,000       5 days      M   2021-12             100      1   \n",
       "1    15,500      10 days      F   2022-01             200      0   \n",
       "2     2,300      3 hours      O   2022-02             abc    Yes   \n",
       "3     7,800   45 minutes      M   2022-03             300     No   \n",
       "\n",
       "  numbers_as_object mixed_type  random_num random_text  \n",
       "0                 1         10           5       apple  \n",
       "1                 2       20.5          10      banana  \n",
       "2                 3        xyz          15      cherry  \n",
       "3                 4       None          20        date  "
      ]
     },
     "execution_count": 152,
     "metadata": {},
     "output_type": "execute_result"
    }
   ],
   "source": [
    "# import libraries\n",
    "import pandas as pd\n",
    "import numpy as np\n",
    "\n",
    "# Load the data\n",
    "data = {\n",
    "    \"money_str\": [\"10,000\", \"15,500\", \"2,300\", \"7,800\"],  # string numbers with commas\n",
    "    \"duration_str\": [\"5 days\", \"10 days\", \"3 hours\", \"45 minutes\"],  # strings for timedelta\n",
    "    \"gender\": [\"M\", \"F\", \"O\", \"M\"],  # categorical gender\n",
    "    \"month_str\": [\"2021-12\", \"2022-01\", \"2022-02\", \"2022-03\"],  # year-month strings\n",
    "    \"numeric_and_str\": [\"100\", \"200\", \"abc\", \"300\"],  # mixed type column\n",
    "    \"yn_str\": [\"1\", \"0\", \"Yes\", \"No\"],  # boolean-like strings\n",
    "    \"numbers_as_object\": pd.Series([1, 2, 3, 4], dtype=\"object\"),  # numbers stored as object\n",
    "    \"mixed_type\": [\"10\", \"20.5\", \"xyz\", None],  # mixed type column for coercion\n",
    "    \"random_num\": [5, 10, 15, 20],  # numeric column\n",
    "    \"random_text\": [\"apple\", \"banana\", \"cherry\", \"date\"],  # text column\n",
    "}\n",
    "\n",
    "df = pd.DataFrame(data)\n",
    "df"
   ]
  },
  {
   "cell_type": "markdown",
   "id": "d1ffb6dd",
   "metadata": {},
   "source": [
    "### Exercises (Intermediate)"
   ]
  },
  {
   "cell_type": "code",
   "execution_count": 153,
   "id": "5ead70a3",
   "metadata": {},
   "outputs": [
    {
     "data": {
      "text/plain": [
       "dtype('int64')"
      ]
     },
     "execution_count": 153,
     "metadata": {},
     "output_type": "execute_result"
    }
   ],
   "source": [
    "# Convert a column with strings \"10,000\", \"15,500\" into numeric integers.\n",
    "# df['money_str'] = df['money_str'].str.replace(',', '')\n",
    "df['money_str'] = df['money_str'].str.replace(',', '', regex=False)\n",
    "col1 = df['money_str'].astype('Int64') # 1st way\n",
    "col1 = pd.to_numeric(df['money_str'], errors='coerce') # 2nd way\n",
    "col1.dtypes"
   ]
  },
  {
   "cell_type": "code",
   "execution_count": 154,
   "id": "289be53b",
   "metadata": {},
   "outputs": [
    {
     "data": {
      "text/plain": [
       "money_str                     object\n",
       "duration_str         timedelta64[ns]\n",
       "gender                        object\n",
       "month_str                     object\n",
       "numeric_and_str               object\n",
       "yn_str                        object\n",
       "numbers_as_object             object\n",
       "mixed_type                    object\n",
       "random_num                     int64\n",
       "random_text                   object\n",
       "dtype: object"
      ]
     },
     "execution_count": 154,
     "metadata": {},
     "output_type": "execute_result"
    }
   ],
   "source": [
    "# Convert duration_str column into timedelta using pd.to_timedelta().\n",
    "df['duration_str'] = pd.to_timedelta(df['duration_str'])\n",
    "df.dtypes"
   ]
  },
  {
   "cell_type": "code",
   "execution_count": 155,
   "id": "c60d1dd4",
   "metadata": {},
   "outputs": [
    {
     "data": {
      "text/plain": [
       "money_str                     object\n",
       "duration_str         timedelta64[ns]\n",
       "gender                      category\n",
       "month_str                     object\n",
       "numeric_and_str               object\n",
       "yn_str                        object\n",
       "numbers_as_object             object\n",
       "mixed_type                    object\n",
       "random_num                     int64\n",
       "random_text                   object\n",
       "dtype: object"
      ]
     },
     "execution_count": 155,
     "metadata": {},
     "output_type": "execute_result"
    }
   ],
   "source": [
    "# Convert gender column into a categorical dtype.\n",
    "df['gender'] = df['gender'].astype('category')\n",
    "df.dtypes\n",
    "\n",
    "# for explicitly setting categories\n",
    "df['gender'] = pd.Categorical(df['gender'], categories=['M', 'F', 'O'])\n",
    "df.dtypes\n"
   ]
  },
  {
   "cell_type": "code",
   "execution_count": 156,
   "id": "36c6b30f",
   "metadata": {},
   "outputs": [
    {
     "data": {
      "text/plain": [
       "money_str                     object\n",
       "duration_str         timedelta64[ns]\n",
       "gender                      category\n",
       "month_str             datetime64[ns]\n",
       "numeric_and_str               object\n",
       "yn_str                        object\n",
       "numbers_as_object             object\n",
       "mixed_type                    object\n",
       "random_num                     int64\n",
       "random_text                   object\n",
       "dtype: object"
      ]
     },
     "execution_count": 156,
     "metadata": {},
     "output_type": "execute_result"
    }
   ],
   "source": [
    "# Convert month_str to datetime (first day of month).\n",
    "# df['month_str'] = df['month_str'].astype('datetime64[ns]') # works\n",
    "# but this is safer\n",
    "df['month_str'] = pd.to_datetime(df['month_str'], format='%Y-%m')\n",
    "df.dtypes"
   ]
  },
  {
   "cell_type": "code",
   "execution_count": 157,
   "id": "4adcab4d",
   "metadata": {},
   "outputs": [
    {
     "data": {
      "text/html": [
       "<div>\n",
       "<style scoped>\n",
       "    .dataframe tbody tr th:only-of-type {\n",
       "        vertical-align: middle;\n",
       "    }\n",
       "\n",
       "    .dataframe tbody tr th {\n",
       "        vertical-align: top;\n",
       "    }\n",
       "\n",
       "    .dataframe thead th {\n",
       "        text-align: right;\n",
       "    }\n",
       "</style>\n",
       "<table border=\"1\" class=\"dataframe\">\n",
       "  <thead>\n",
       "    <tr style=\"text-align: right;\">\n",
       "      <th></th>\n",
       "      <th>duration_str</th>\n",
       "      <th>random_num</th>\n",
       "    </tr>\n",
       "  </thead>\n",
       "  <tbody>\n",
       "    <tr>\n",
       "      <th>0</th>\n",
       "      <td>5 days 00:00:00</td>\n",
       "      <td>5</td>\n",
       "    </tr>\n",
       "    <tr>\n",
       "      <th>1</th>\n",
       "      <td>10 days 00:00:00</td>\n",
       "      <td>10</td>\n",
       "    </tr>\n",
       "    <tr>\n",
       "      <th>2</th>\n",
       "      <td>0 days 03:00:00</td>\n",
       "      <td>15</td>\n",
       "    </tr>\n",
       "    <tr>\n",
       "      <th>3</th>\n",
       "      <td>0 days 00:45:00</td>\n",
       "      <td>20</td>\n",
       "    </tr>\n",
       "  </tbody>\n",
       "</table>\n",
       "</div>"
      ],
      "text/plain": [
       "      duration_str  random_num\n",
       "0  5 days 00:00:00           5\n",
       "1 10 days 00:00:00          10\n",
       "2  0 days 03:00:00          15\n",
       "3  0 days 00:45:00          20"
      ]
     },
     "execution_count": 157,
     "metadata": {},
     "output_type": "execute_result"
    }
   ],
   "source": [
    "# Select only numeric columns from a DataFrame using .select_dtypes().\n",
    "df.select_dtypes(include='number') # 1st way\n",
    "df.select_dtypes(include='number', exclude='object') # 2nd way"
   ]
  },
  {
   "cell_type": "code",
   "execution_count": 158,
   "id": "d8af3f23",
   "metadata": {},
   "outputs": [
    {
     "data": {
      "text/html": [
       "<div>\n",
       "<style scoped>\n",
       "    .dataframe tbody tr th:only-of-type {\n",
       "        vertical-align: middle;\n",
       "    }\n",
       "\n",
       "    .dataframe tbody tr th {\n",
       "        vertical-align: top;\n",
       "    }\n",
       "\n",
       "    .dataframe thead th {\n",
       "        text-align: right;\n",
       "    }\n",
       "</style>\n",
       "<table border=\"1\" class=\"dataframe\">\n",
       "  <thead>\n",
       "    <tr style=\"text-align: right;\">\n",
       "      <th></th>\n",
       "      <th>money_str</th>\n",
       "      <th>duration_str</th>\n",
       "      <th>gender</th>\n",
       "      <th>month_str</th>\n",
       "      <th>numeric_and_str</th>\n",
       "      <th>yn_str</th>\n",
       "      <th>numbers_as_object</th>\n",
       "      <th>mixed_type</th>\n",
       "      <th>random_num</th>\n",
       "      <th>random_text</th>\n",
       "    </tr>\n",
       "  </thead>\n",
       "  <tbody>\n",
       "    <tr>\n",
       "      <th>0</th>\n",
       "      <td>10000</td>\n",
       "      <td>5 days 00:00:00</td>\n",
       "      <td>M</td>\n",
       "      <td>2021-12-01</td>\n",
       "      <td>100</td>\n",
       "      <td>1</td>\n",
       "      <td>1</td>\n",
       "      <td>10</td>\n",
       "      <td>5</td>\n",
       "      <td>apple</td>\n",
       "    </tr>\n",
       "    <tr>\n",
       "      <th>1</th>\n",
       "      <td>15500</td>\n",
       "      <td>10 days 00:00:00</td>\n",
       "      <td>F</td>\n",
       "      <td>2022-01-01</td>\n",
       "      <td>200</td>\n",
       "      <td>0</td>\n",
       "      <td>2</td>\n",
       "      <td>20.5</td>\n",
       "      <td>10</td>\n",
       "      <td>banana</td>\n",
       "    </tr>\n",
       "    <tr>\n",
       "      <th>2</th>\n",
       "      <td>2300</td>\n",
       "      <td>0 days 03:00:00</td>\n",
       "      <td>O</td>\n",
       "      <td>2022-02-01</td>\n",
       "      <td>abc</td>\n",
       "      <td>Yes</td>\n",
       "      <td>3</td>\n",
       "      <td>xyz</td>\n",
       "      <td>15</td>\n",
       "      <td>cherry</td>\n",
       "    </tr>\n",
       "    <tr>\n",
       "      <th>3</th>\n",
       "      <td>7800</td>\n",
       "      <td>0 days 00:45:00</td>\n",
       "      <td>M</td>\n",
       "      <td>2022-03-01</td>\n",
       "      <td>300</td>\n",
       "      <td>No</td>\n",
       "      <td>4</td>\n",
       "      <td>None</td>\n",
       "      <td>20</td>\n",
       "      <td>date</td>\n",
       "    </tr>\n",
       "  </tbody>\n",
       "</table>\n",
       "</div>"
      ],
      "text/plain": [
       "  money_str     duration_str gender  month_str numeric_and_str yn_str  \\\n",
       "0     10000  5 days 00:00:00      M 2021-12-01             100      1   \n",
       "1     15500 10 days 00:00:00      F 2022-01-01             200      0   \n",
       "2      2300  0 days 03:00:00      O 2022-02-01             abc    Yes   \n",
       "3      7800  0 days 00:45:00      M 2022-03-01             300     No   \n",
       "\n",
       "   numbers_as_object mixed_type  random_num random_text  \n",
       "0                  1         10           5       apple  \n",
       "1                  2       20.5          10      banana  \n",
       "2                  3        xyz          15      cherry  \n",
       "3                  4       None          20        date  "
      ]
     },
     "execution_count": 158,
     "metadata": {},
     "output_type": "execute_result"
    }
   ],
   "source": [
    "# Use .infer_objects() on a DataFrame where numbers are stored as object.\n",
    "df.infer_objects()"
   ]
  },
  {
   "cell_type": "code",
   "execution_count": 159,
   "id": "73488314",
   "metadata": {},
   "outputs": [
    {
     "data": {
      "text/plain": [
       "money_str                     object\n",
       "duration_str         timedelta64[ns]\n",
       "gender                      category\n",
       "month_str             datetime64[ns]\n",
       "numeric_and_str               object\n",
       "yn_str                       boolean\n",
       "numbers_as_object             object\n",
       "mixed_type                    object\n",
       "random_num                     int64\n",
       "random_text                   object\n",
       "dtype: object"
      ]
     },
     "execution_count": 159,
     "metadata": {},
     "output_type": "execute_result"
    }
   ],
   "source": [
    "# Convert yn_str column into a boolean column.\n",
    "# 💡 Tip: Always build a mapping dictionary for this kind of case.\n",
    "df['yn_str'] = df['yn_str'].astype(str).str.lower()\n",
    "df['yn_str'] = df['yn_str'].map({\n",
    "    \"1\": True, \"0\": False, \"yes\": True, \"no\": False\n",
    "})\n",
    "df['yn_str'] = df['yn_str'].astype('boolean')\n",
    "\n",
    "df.dtypes"
   ]
  },
  {
   "cell_type": "code",
   "execution_count": 160,
   "id": "b6b17633",
   "metadata": {},
   "outputs": [
    {
     "data": {
      "text/plain": [
       "money_str                     object\n",
       "duration_str         timedelta64[ns]\n",
       "gender                      category\n",
       "month_str             datetime64[ns]\n",
       "numeric_and_str               object\n",
       "yn_str                       boolean\n",
       "numbers_as_object             object\n",
       "mixed_type                   float64\n",
       "random_num                     int64\n",
       "random_text                   object\n",
       "dtype: object"
      ]
     },
     "execution_count": 160,
     "metadata": {},
     "output_type": "execute_result"
    }
   ],
   "source": [
    "# Try converting a mixed-type column into numeric with errors='coerce' and analyze what turns into NaN.\n",
    "df['mixed_type'] = pd.to_numeric(df['mixed_type'], errors='coerce')\n",
    "df.dtypes"
   ]
  },
  {
   "cell_type": "code",
   "execution_count": null,
   "id": "9251a839",
   "metadata": {},
   "outputs": [],
   "source": [
    "import pandas as pd\n",
    "import numpy as np\n",
    "import ast\n",
    "\n",
    "df1 = pd.DataFrame({\n",
    "    \"mixed\": [\"[1, 2, 3]\", \"{'a': 10}\", \"42\", \"3.14\", \"NaN\"]\n",
    "})\n",
    "\n",
    "def parse_mixed(val):\n",
    "    try:\n",
    "        if val in [\"NaN\", \"nan\", None]:\n",
    "            return np.nan\n",
    "        return ast.literal_eval(val)  # safely parse lists, dicts, numbers\n",
    "    except Exception:\n",
    "        try:\n",
    "            return pd.to_numeric(val)\n",
    "        except Exception:\n",
    "            return val\n",
    "\n",
    "df1[\"parsed\"] = df1[\"mixed\"].apply(parse_mixed)\n",
    "print(df1)\n"
   ]
  },
  {
   "cell_type": "code",
   "execution_count": null,
   "id": "c2fa0106",
   "metadata": {},
   "outputs": [],
   "source": [
    "import re\n",
    "\n",
    "df2 = pd.DataFrame({\n",
    "    \"currency\": [\"$1,200.50\", \"€850\", \"1 000 JPY\", \"GBP 500\", None]\n",
    "})\n",
    "\n",
    "# Extract currency symbol or code\n",
    "df2[\"currency_symbol\"] = df2[\"currency\"].str.extract(r\"([^\\d\\s.,]+)\")\n",
    "\n",
    "# Extract numeric part, remove commas/spaces\n",
    "df2[\"numeric_value\"] = (\n",
    "    df2[\"currency\"]\n",
    "      .str.replace(r\"[^\\d.,]\", \"\", regex=True)  # keep only digits and separators\n",
    "      .str.replace(\",\", \"\", regex=False)        # remove commas\n",
    "      .str.replace(\" \", \"\", regex=False)        # remove spaces\n",
    ")\n",
    "\n",
    "# Convert to float\n",
    "df2[\"numeric_value\"] = pd.to_numeric(df2[\"numeric_value\"], errors=\"coerce\")\n",
    "\n",
    "print(df2)\n"
   ]
  },
  {
   "cell_type": "code",
   "execution_count": null,
   "id": "15fe9be4",
   "metadata": {},
   "outputs": [],
   "source": [
    "df3 = pd.DataFrame({\n",
    "    \"dates\": [\"2021-12-01\", \"01/13/2022\", \"March 5, 2023\", \"2024.07.20\", None]\n",
    "})\n",
    "\n",
    "# Convert all to datetime\n",
    "df3[\"datetime\"] = pd.to_datetime(df3[\"dates\"], errors=\"coerce\", infer_datetime_format=True)\n",
    "\n",
    "# Extract month names\n",
    "df3[\"month_name\"] = df3[\"datetime\"].dt.month_name()\n",
    "\n",
    "print(df3)\n"
   ]
  }
 ],
 "metadata": {
  "kernelspec": {
   "display_name": "Python 3",
   "language": "python",
   "name": "python3"
  },
  "language_info": {
   "codemirror_mode": {
    "name": "ipython",
    "version": 3
   },
   "file_extension": ".py",
   "mimetype": "text/x-python",
   "name": "python",
   "nbconvert_exporter": "python",
   "pygments_lexer": "ipython3",
   "version": "3.13.5"
  }
 },
 "nbformat": 4,
 "nbformat_minor": 5
}
