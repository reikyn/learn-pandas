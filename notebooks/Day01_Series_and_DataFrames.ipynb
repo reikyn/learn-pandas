{
 "cells": [
  {
   "cell_type": "markdown",
   "id": "37854ac3",
   "metadata": {},
   "source": [
    "# **📘Day 1 - Pandas Series & DataFrame 🐼**"
   ]
  },
  {
   "cell_type": "markdown",
   "id": "64b4c670",
   "metadata": {},
   "source": [
    "#### **Goal:** Grasp the two fundamental building blocks of Pandas: Series (1D) and DataFrames (2D).\n",
    "\n",
    "#### **Topics To Cover:** Pandas Introduction, Series creation, indexing, key attributes, DataFrame creation, and basic operations."
   ]
  },
  {
   "cell_type": "markdown",
   "id": "f89cb406",
   "metadata": {},
   "source": [
    "----"
   ]
  },
  {
   "cell_type": "markdown",
   "id": "7b2cb501",
   "metadata": {},
   "source": [
    "## **Introduction to Pandas 🐼**\n",
    "Pandas (Python Data Analysis Library) is the Swiss Army knife for data manipulation and analysis in Python. It provides fast, flexible, and expressive data structures designed to make working with \"relational\" or \"labeled\" data both easy and intuitive. It is an essential tool for almost every data science workflow.\n",
    "\n",
    "**Why is Pandas Important? 💡**\n",
    "\n",
    "* **Structured Data:** It’s built to handle tabular data (like spreadsheets or SQL tables) effortlessly.\n",
    "\n",
    "* **Clean and Manipulate Data:** It simplifies the messy process of data cleaning, transformation, and preparation for analysis or machine learning models.\n",
    "\n",
    "* **Efficiency:** Under the hood, Pandas leverages the speed of NumPy, allowing for quick computations on large datasets."
   ]
  },
  {
   "cell_type": "markdown",
   "id": "ffa61598",
   "metadata": {},
   "source": [
    "----"
   ]
  },
  {
   "cell_type": "markdown",
   "id": "47ada7c0",
   "metadata": {},
   "source": [
    "## **Component 1: The Pandas Series 🥇**\n",
    "**Definition:**\n",
    "A Pandas Series is the most basic building block. It is a one-dimensional array-like object that can hold data of any single type (e.g., integers, strings, floating-point numbers, Python objects).\n",
    "\n",
    "**Key Feature:**\n",
    "Its key feature that distinguishes it from a simple NumPy array is the labeled index. This index acts as a unique label for each element, which makes data access, alignment, and manipulation extremely powerful.\n",
    "\n",
    "**Think of a Series as:** A single, named column from a spreadsheet or a SQL table.\n",
    "\n",
    "### **Key Characteristics of a Series** ✨ <br>\n",
    "A Series is characterized by three main components:\n",
    "\n",
    "* **Data (Values)**: The actual content stored, which can be created from a list, dictionary, or a NumPy array.\n",
    "\n",
    "* **Index (Labels)**: The labels for each row. If you don't provide one, Pandas defaults to a simple integer index starting at 0.\n",
    "\n",
    "* **Data Type (dtype)**: The type of data stored in the series (e.g., int64 for integers, object for strings)."
   ]
  },
  {
   "cell_type": "code",
   "execution_count": 1,
   "id": "04877f38",
   "metadata": {},
   "outputs": [
    {
     "name": "stdout",
     "output_type": "stream",
     "text": [
      "0    1\n",
      "1    2\n",
      "2    3\n",
      "3    4\n",
      "4    5\n",
      "dtype: int64\n"
     ]
    }
   ],
   "source": [
    "# import the necessary libraries\n",
    "import pandas as pd\n",
    "import numpy as np\n",
    "\n",
    "# create a sample Series\n",
    "series = pd.Series([1, 2, 3, 4, 5])\n",
    "print(series)"
   ]
  },
  {
   "cell_type": "code",
   "execution_count": 2,
   "id": "0ff64ba0-01f8-4e3d-bb1f-6f367695dd99",
   "metadata": {},
   "outputs": [
    {
     "name": "stdout",
     "output_type": "stream",
     "text": [
      "a    1\n",
      "b    2\n",
      "c    3\n",
      "d    4\n",
      "e    5\n",
      "dtype: int64\n"
     ]
    }
   ],
   "source": [
    "# Give and display the index of the Series\n",
    "series.index = ['a', 'b', 'c', 'd', 'e']\n",
    "print(series)"
   ]
  },
  {
   "cell_type": "markdown",
   "id": "a7f95499",
   "metadata": {},
   "source": [
    "### Accessing Elements"
   ]
  },
  {
   "cell_type": "code",
   "execution_count": 3,
   "id": "574d0615",
   "metadata": {},
   "outputs": [
    {
     "name": "stdout",
     "output_type": "stream",
     "text": [
      "3\n"
     ]
    }
   ],
   "source": [
    "# Access by position index (deprecated way) so use .iloc for position based access\n",
    "# print(series[2])  # Output: 3\n",
    "\n",
    "# Access by index label\n",
    "print(series['c'])  # Output: 3"
   ]
  },
  {
   "cell_type": "markdown",
   "id": "13f32d35",
   "metadata": {},
   "source": [
    "### Slicing"
   ]
  },
  {
   "cell_type": "code",
   "execution_count": 4,
   "id": "7edd1bf6",
   "metadata": {},
   "outputs": [
    {
     "name": "stdout",
     "output_type": "stream",
     "text": [
      "b    2\n",
      "c    3\n",
      "d    4\n",
      "dtype: int64\n"
     ]
    }
   ],
   "source": [
    "# Slicing by position (deprecated way) so use .iloc for position based slicing\n",
    "# print(series[1:4])  # Output: b    2\n",
    "\n",
    "# Slicing by index label\n",
    "print(series['b':'d'])  # Output: b    2"
   ]
  },
  {
   "cell_type": "markdown",
   "id": "4869742d",
   "metadata": {},
   "source": [
    "### Filtering"
   ]
  },
  {
   "cell_type": "code",
   "execution_count": 5,
   "id": "6565117d",
   "metadata": {},
   "outputs": [
    {
     "name": "stdout",
     "output_type": "stream",
     "text": [
      "c    3\n",
      "d    4\n",
      "e    5\n",
      "dtype: int64\n"
     ]
    }
   ],
   "source": [
    "# Filtering with boolean masking\n",
    "filtered_series = series[series > 2]\n",
    "print(filtered_series)"
   ]
  },
  {
   "cell_type": "markdown",
   "id": "cd237746",
   "metadata": {},
   "source": [
    "----"
   ]
  },
  {
   "cell_type": "markdown",
   "id": "62873bb6",
   "metadata": {},
   "source": [
    "## **Component 2: The Pandas DataFrame 🏗️**\n",
    "**Definition**\n",
    "A Pandas DataFrame is the most commonly used object in Pandas. It is a two-dimensional labeled data structure with columns that can individually be of different types. It can be thought of as a dictionary of Series objects that share a common index.\n",
    "\n",
    "**The Role of the DataFrame 🎯**\n",
    "The DataFrame is the fundamental structure for data analysis. It perfectly mirrors real-world datasets like SQL tables or Excel sheets, providing a structured, table-like view of your data. It is the go-to structure for tasks like filtering, grouping, merging, and statistical modeling.\n",
    "\n",
    "**Think of a DataFrame as:** The entire spreadsheet or SQL table, composed of rows (indexed) and named columns.\n",
    "\n",
    "\n",
    "### **Key Characteristics of a DataFrame 🔑**\n",
    "\n",
    "A DataFrame is essentially a two-dimensional structure defined by four major characteristics:\n",
    "\n",
    "* **Structure (Rows & Columns):** It has both a row index (like a Series) and a column index. The combination of these two indexes allows for precise, labeled data access.\n",
    "* **Column Homogeneity:** While the entire DataFrame can have mixed types (e.g., one column of integers, one of strings), each individual **column** (which is a Series) must hold values of the **same data type** (`dtype`).\n",
    "* **Size Mutability:** You can easily add or delete columns from a DataFrame.\n",
    "* **Row Mutability:** You can easily add or delete rows from a DataFrame.\n",
    "\n",
    "| Feature | Description |\n",
    "| :--- | :--- |\n",
    "| **Index** | Labels for the **rows** (the `df.index` attribute). |\n",
    "| **Columns** | Labels for the **columns** (the `df.columns` attribute). |\n",
    "| **Values** | The actual data stored, often accessible as a NumPy array (the `df.values` attribute). |\n",
    "| **Dtypes** | The data type of each column (the `df.dtypes` attribute). |"
   ]
  },
  {
   "cell_type": "code",
   "execution_count": 6,
   "id": "7f359f46",
   "metadata": {},
   "outputs": [
    {
     "data": {
      "text/html": [
       "<div>\n",
       "<style scoped>\n",
       "    .dataframe tbody tr th:only-of-type {\n",
       "        vertical-align: middle;\n",
       "    }\n",
       "\n",
       "    .dataframe tbody tr th {\n",
       "        vertical-align: top;\n",
       "    }\n",
       "\n",
       "    .dataframe thead th {\n",
       "        text-align: right;\n",
       "    }\n",
       "</style>\n",
       "<table border=\"1\" class=\"dataframe\">\n",
       "  <thead>\n",
       "    <tr style=\"text-align: right;\">\n",
       "      <th></th>\n",
       "      <th>Student_ID</th>\n",
       "      <th>Age</th>\n",
       "      <th>Gender</th>\n",
       "      <th>Academic_Level</th>\n",
       "      <th>Country</th>\n",
       "      <th>Avg_Daily_Usage_Hours</th>\n",
       "      <th>Most_Used_Platform</th>\n",
       "      <th>Affects_Academic_Performance</th>\n",
       "      <th>Sleep_Hours_Per_Night</th>\n",
       "      <th>Mental_Health_Score</th>\n",
       "      <th>Relationship_Status</th>\n",
       "      <th>Conflicts_Over_Social_Media</th>\n",
       "      <th>Addicted_Score</th>\n",
       "    </tr>\n",
       "  </thead>\n",
       "  <tbody>\n",
       "    <tr>\n",
       "      <th>0</th>\n",
       "      <td>1</td>\n",
       "      <td>19</td>\n",
       "      <td>Female</td>\n",
       "      <td>Undergraduate</td>\n",
       "      <td>Bangladesh</td>\n",
       "      <td>5.2</td>\n",
       "      <td>Instagram</td>\n",
       "      <td>Yes</td>\n",
       "      <td>6.5</td>\n",
       "      <td>6</td>\n",
       "      <td>In Relationship</td>\n",
       "      <td>3</td>\n",
       "      <td>8</td>\n",
       "    </tr>\n",
       "    <tr>\n",
       "      <th>1</th>\n",
       "      <td>2</td>\n",
       "      <td>22</td>\n",
       "      <td>Male</td>\n",
       "      <td>Graduate</td>\n",
       "      <td>India</td>\n",
       "      <td>2.1</td>\n",
       "      <td>Twitter</td>\n",
       "      <td>No</td>\n",
       "      <td>7.5</td>\n",
       "      <td>8</td>\n",
       "      <td>Single</td>\n",
       "      <td>0</td>\n",
       "      <td>3</td>\n",
       "    </tr>\n",
       "    <tr>\n",
       "      <th>2</th>\n",
       "      <td>3</td>\n",
       "      <td>20</td>\n",
       "      <td>Female</td>\n",
       "      <td>Undergraduate</td>\n",
       "      <td>USA</td>\n",
       "      <td>6.0</td>\n",
       "      <td>TikTok</td>\n",
       "      <td>Yes</td>\n",
       "      <td>5.0</td>\n",
       "      <td>5</td>\n",
       "      <td>Complicated</td>\n",
       "      <td>4</td>\n",
       "      <td>9</td>\n",
       "    </tr>\n",
       "    <tr>\n",
       "      <th>3</th>\n",
       "      <td>4</td>\n",
       "      <td>18</td>\n",
       "      <td>Male</td>\n",
       "      <td>High School</td>\n",
       "      <td>UK</td>\n",
       "      <td>3.0</td>\n",
       "      <td>YouTube</td>\n",
       "      <td>No</td>\n",
       "      <td>7.0</td>\n",
       "      <td>7</td>\n",
       "      <td>Single</td>\n",
       "      <td>1</td>\n",
       "      <td>4</td>\n",
       "    </tr>\n",
       "    <tr>\n",
       "      <th>4</th>\n",
       "      <td>5</td>\n",
       "      <td>21</td>\n",
       "      <td>Male</td>\n",
       "      <td>Graduate</td>\n",
       "      <td>Canada</td>\n",
       "      <td>4.5</td>\n",
       "      <td>Facebook</td>\n",
       "      <td>Yes</td>\n",
       "      <td>6.0</td>\n",
       "      <td>6</td>\n",
       "      <td>In Relationship</td>\n",
       "      <td>2</td>\n",
       "      <td>7</td>\n",
       "    </tr>\n",
       "  </tbody>\n",
       "</table>\n",
       "</div>"
      ],
      "text/plain": [
       "   Student_ID  Age  Gender Academic_Level     Country  Avg_Daily_Usage_Hours  \\\n",
       "0           1   19  Female  Undergraduate  Bangladesh                    5.2   \n",
       "1           2   22    Male       Graduate       India                    2.1   \n",
       "2           3   20  Female  Undergraduate         USA                    6.0   \n",
       "3           4   18    Male    High School          UK                    3.0   \n",
       "4           5   21    Male       Graduate      Canada                    4.5   \n",
       "\n",
       "  Most_Used_Platform Affects_Academic_Performance  Sleep_Hours_Per_Night  \\\n",
       "0          Instagram                          Yes                    6.5   \n",
       "1            Twitter                           No                    7.5   \n",
       "2             TikTok                          Yes                    5.0   \n",
       "3            YouTube                           No                    7.0   \n",
       "4           Facebook                          Yes                    6.0   \n",
       "\n",
       "   Mental_Health_Score Relationship_Status  Conflicts_Over_Social_Media  \\\n",
       "0                    6     In Relationship                            3   \n",
       "1                    8              Single                            0   \n",
       "2                    5         Complicated                            4   \n",
       "3                    7              Single                            1   \n",
       "4                    6     In Relationship                            2   \n",
       "\n",
       "   Addicted_Score  \n",
       "0               8  \n",
       "1               3  \n",
       "2               9  \n",
       "3               4  \n",
       "4               7  "
      ]
     },
     "execution_count": 6,
     "metadata": {},
     "output_type": "execute_result"
    }
   ],
   "source": [
    "data = pd.read_csv(r'..\\data\\Students Social Media Addiction.csv')\n",
    "df = pd.DataFrame(data)\n",
    "df.head() # Givest the first 5 rows of the DataFrame"
   ]
  },
  {
   "cell_type": "code",
   "execution_count": 7,
   "id": "d247f444",
   "metadata": {},
   "outputs": [
    {
     "data": {
      "text/html": [
       "<div>\n",
       "<style scoped>\n",
       "    .dataframe tbody tr th:only-of-type {\n",
       "        vertical-align: middle;\n",
       "    }\n",
       "\n",
       "    .dataframe tbody tr th {\n",
       "        vertical-align: top;\n",
       "    }\n",
       "\n",
       "    .dataframe thead th {\n",
       "        text-align: right;\n",
       "    }\n",
       "</style>\n",
       "<table border=\"1\" class=\"dataframe\">\n",
       "  <thead>\n",
       "    <tr style=\"text-align: right;\">\n",
       "      <th></th>\n",
       "      <th>Student_ID</th>\n",
       "      <th>Age</th>\n",
       "      <th>Gender</th>\n",
       "      <th>Academic_Level</th>\n",
       "      <th>Country</th>\n",
       "      <th>Avg_Daily_Usage_Hours</th>\n",
       "      <th>Most_Used_Platform</th>\n",
       "      <th>Affects_Academic_Performance</th>\n",
       "      <th>Sleep_Hours_Per_Night</th>\n",
       "      <th>Mental_Health_Score</th>\n",
       "      <th>Relationship_Status</th>\n",
       "      <th>Conflicts_Over_Social_Media</th>\n",
       "      <th>Addicted_Score</th>\n",
       "    </tr>\n",
       "  </thead>\n",
       "  <tbody>\n",
       "    <tr>\n",
       "      <th>700</th>\n",
       "      <td>701</td>\n",
       "      <td>20</td>\n",
       "      <td>Female</td>\n",
       "      <td>Undergraduate</td>\n",
       "      <td>Italy</td>\n",
       "      <td>4.7</td>\n",
       "      <td>TikTok</td>\n",
       "      <td>No</td>\n",
       "      <td>7.2</td>\n",
       "      <td>7</td>\n",
       "      <td>In Relationship</td>\n",
       "      <td>2</td>\n",
       "      <td>5</td>\n",
       "    </tr>\n",
       "    <tr>\n",
       "      <th>701</th>\n",
       "      <td>702</td>\n",
       "      <td>23</td>\n",
       "      <td>Male</td>\n",
       "      <td>Graduate</td>\n",
       "      <td>Russia</td>\n",
       "      <td>6.8</td>\n",
       "      <td>Instagram</td>\n",
       "      <td>Yes</td>\n",
       "      <td>5.9</td>\n",
       "      <td>4</td>\n",
       "      <td>Single</td>\n",
       "      <td>5</td>\n",
       "      <td>9</td>\n",
       "    </tr>\n",
       "    <tr>\n",
       "      <th>702</th>\n",
       "      <td>703</td>\n",
       "      <td>21</td>\n",
       "      <td>Female</td>\n",
       "      <td>Undergraduate</td>\n",
       "      <td>China</td>\n",
       "      <td>5.6</td>\n",
       "      <td>WeChat</td>\n",
       "      <td>Yes</td>\n",
       "      <td>6.7</td>\n",
       "      <td>6</td>\n",
       "      <td>In Relationship</td>\n",
       "      <td>3</td>\n",
       "      <td>7</td>\n",
       "    </tr>\n",
       "    <tr>\n",
       "      <th>703</th>\n",
       "      <td>704</td>\n",
       "      <td>24</td>\n",
       "      <td>Male</td>\n",
       "      <td>Graduate</td>\n",
       "      <td>Japan</td>\n",
       "      <td>4.3</td>\n",
       "      <td>Twitter</td>\n",
       "      <td>No</td>\n",
       "      <td>7.5</td>\n",
       "      <td>8</td>\n",
       "      <td>Single</td>\n",
       "      <td>2</td>\n",
       "      <td>4</td>\n",
       "    </tr>\n",
       "    <tr>\n",
       "      <th>704</th>\n",
       "      <td>705</td>\n",
       "      <td>19</td>\n",
       "      <td>Female</td>\n",
       "      <td>Undergraduate</td>\n",
       "      <td>Poland</td>\n",
       "      <td>6.2</td>\n",
       "      <td>Facebook</td>\n",
       "      <td>Yes</td>\n",
       "      <td>6.3</td>\n",
       "      <td>5</td>\n",
       "      <td>Single</td>\n",
       "      <td>4</td>\n",
       "      <td>8</td>\n",
       "    </tr>\n",
       "  </tbody>\n",
       "</table>\n",
       "</div>"
      ],
      "text/plain": [
       "     Student_ID  Age  Gender Academic_Level Country  Avg_Daily_Usage_Hours  \\\n",
       "700         701   20  Female  Undergraduate   Italy                    4.7   \n",
       "701         702   23    Male       Graduate  Russia                    6.8   \n",
       "702         703   21  Female  Undergraduate   China                    5.6   \n",
       "703         704   24    Male       Graduate   Japan                    4.3   \n",
       "704         705   19  Female  Undergraduate  Poland                    6.2   \n",
       "\n",
       "    Most_Used_Platform Affects_Academic_Performance  Sleep_Hours_Per_Night  \\\n",
       "700             TikTok                           No                    7.2   \n",
       "701          Instagram                          Yes                    5.9   \n",
       "702             WeChat                          Yes                    6.7   \n",
       "703            Twitter                           No                    7.5   \n",
       "704           Facebook                          Yes                    6.3   \n",
       "\n",
       "     Mental_Health_Score Relationship_Status  Conflicts_Over_Social_Media  \\\n",
       "700                    7     In Relationship                            2   \n",
       "701                    4              Single                            5   \n",
       "702                    6     In Relationship                            3   \n",
       "703                    8              Single                            2   \n",
       "704                    5              Single                            4   \n",
       "\n",
       "     Addicted_Score  \n",
       "700               5  \n",
       "701               9  \n",
       "702               7  \n",
       "703               4  \n",
       "704               8  "
      ]
     },
     "execution_count": 7,
     "metadata": {},
     "output_type": "execute_result"
    }
   ],
   "source": [
    "df.tail() # Gives the last 5 rows of the DataFrame\n"
   ]
  },
  {
   "cell_type": "code",
   "execution_count": 8,
   "id": "0d655a1f",
   "metadata": {},
   "outputs": [
    {
     "data": {
      "text/plain": [
       "(705, 13)"
      ]
     },
     "execution_count": 8,
     "metadata": {},
     "output_type": "execute_result"
    }
   ],
   "source": [
    "\n",
    "df.shape # Gives the shape of the DataFrame (rows, columns)"
   ]
  },
  {
   "cell_type": "code",
   "execution_count": 9,
   "id": "bb6954a7",
   "metadata": {},
   "outputs": [
    {
     "data": {
      "text/plain": [
       "Index(['Student_ID', 'Age', 'Gender', 'Academic_Level', 'Country',\n",
       "       'Avg_Daily_Usage_Hours', 'Most_Used_Platform',\n",
       "       'Affects_Academic_Performance', 'Sleep_Hours_Per_Night',\n",
       "       'Mental_Health_Score', 'Relationship_Status',\n",
       "       'Conflicts_Over_Social_Media', 'Addicted_Score'],\n",
       "      dtype='object')"
      ]
     },
     "execution_count": 9,
     "metadata": {},
     "output_type": "execute_result"
    }
   ],
   "source": [
    "df.columns # Gives the column names of the DataFrame\n"
   ]
  },
  {
   "cell_type": "code",
   "execution_count": 10,
   "id": "4e3df24d",
   "metadata": {},
   "outputs": [
    {
     "data": {
      "text/plain": [
       "RangeIndex(start=0, stop=705, step=1)"
      ]
     },
     "execution_count": 10,
     "metadata": {},
     "output_type": "execute_result"
    }
   ],
   "source": [
    "df.index # Gives the index names of the DataFrame"
   ]
  },
  {
   "cell_type": "code",
   "execution_count": 11,
   "id": "d81e2007",
   "metadata": {},
   "outputs": [
    {
     "name": "stdout",
     "output_type": "stream",
     "text": [
      "<class 'pandas.core.frame.DataFrame'>\n",
      "RangeIndex: 705 entries, 0 to 704\n",
      "Data columns (total 13 columns):\n",
      " #   Column                        Non-Null Count  Dtype  \n",
      "---  ------                        --------------  -----  \n",
      " 0   Student_ID                    705 non-null    int64  \n",
      " 1   Age                           705 non-null    int64  \n",
      " 2   Gender                        705 non-null    object \n",
      " 3   Academic_Level                705 non-null    object \n",
      " 4   Country                       705 non-null    object \n",
      " 5   Avg_Daily_Usage_Hours         705 non-null    float64\n",
      " 6   Most_Used_Platform            705 non-null    object \n",
      " 7   Affects_Academic_Performance  705 non-null    object \n",
      " 8   Sleep_Hours_Per_Night         705 non-null    float64\n",
      " 9   Mental_Health_Score           705 non-null    int64  \n",
      " 10  Relationship_Status           705 non-null    object \n",
      " 11  Conflicts_Over_Social_Media   705 non-null    int64  \n",
      " 12  Addicted_Score                705 non-null    int64  \n",
      "dtypes: float64(2), int64(5), object(6)\n",
      "memory usage: 71.7+ KB\n"
     ]
    }
   ],
   "source": [
    "df.info() # Gives a concise summary of the DataFrame"
   ]
  },
  {
   "cell_type": "code",
   "execution_count": 12,
   "id": "2b33f1fb",
   "metadata": {},
   "outputs": [
    {
     "data": {
      "text/html": [
       "<div>\n",
       "<style scoped>\n",
       "    .dataframe tbody tr th:only-of-type {\n",
       "        vertical-align: middle;\n",
       "    }\n",
       "\n",
       "    .dataframe tbody tr th {\n",
       "        vertical-align: top;\n",
       "    }\n",
       "\n",
       "    .dataframe thead th {\n",
       "        text-align: right;\n",
       "    }\n",
       "</style>\n",
       "<table border=\"1\" class=\"dataframe\">\n",
       "  <thead>\n",
       "    <tr style=\"text-align: right;\">\n",
       "      <th></th>\n",
       "      <th>Student_ID</th>\n",
       "      <th>Age</th>\n",
       "      <th>Avg_Daily_Usage_Hours</th>\n",
       "      <th>Sleep_Hours_Per_Night</th>\n",
       "      <th>Mental_Health_Score</th>\n",
       "      <th>Conflicts_Over_Social_Media</th>\n",
       "      <th>Addicted_Score</th>\n",
       "    </tr>\n",
       "  </thead>\n",
       "  <tbody>\n",
       "    <tr>\n",
       "      <th>count</th>\n",
       "      <td>705.000000</td>\n",
       "      <td>705.000000</td>\n",
       "      <td>705.000000</td>\n",
       "      <td>705.000000</td>\n",
       "      <td>705.000000</td>\n",
       "      <td>705.000000</td>\n",
       "      <td>705.000000</td>\n",
       "    </tr>\n",
       "    <tr>\n",
       "      <th>mean</th>\n",
       "      <td>353.000000</td>\n",
       "      <td>20.659574</td>\n",
       "      <td>4.918723</td>\n",
       "      <td>6.868936</td>\n",
       "      <td>6.226950</td>\n",
       "      <td>2.849645</td>\n",
       "      <td>6.436879</td>\n",
       "    </tr>\n",
       "    <tr>\n",
       "      <th>std</th>\n",
       "      <td>203.660256</td>\n",
       "      <td>1.399217</td>\n",
       "      <td>1.257395</td>\n",
       "      <td>1.126848</td>\n",
       "      <td>1.105055</td>\n",
       "      <td>0.957968</td>\n",
       "      <td>1.587165</td>\n",
       "    </tr>\n",
       "    <tr>\n",
       "      <th>min</th>\n",
       "      <td>1.000000</td>\n",
       "      <td>18.000000</td>\n",
       "      <td>1.500000</td>\n",
       "      <td>3.800000</td>\n",
       "      <td>4.000000</td>\n",
       "      <td>0.000000</td>\n",
       "      <td>2.000000</td>\n",
       "    </tr>\n",
       "    <tr>\n",
       "      <th>25%</th>\n",
       "      <td>177.000000</td>\n",
       "      <td>19.000000</td>\n",
       "      <td>4.100000</td>\n",
       "      <td>6.000000</td>\n",
       "      <td>5.000000</td>\n",
       "      <td>2.000000</td>\n",
       "      <td>5.000000</td>\n",
       "    </tr>\n",
       "    <tr>\n",
       "      <th>50%</th>\n",
       "      <td>353.000000</td>\n",
       "      <td>21.000000</td>\n",
       "      <td>4.800000</td>\n",
       "      <td>6.900000</td>\n",
       "      <td>6.000000</td>\n",
       "      <td>3.000000</td>\n",
       "      <td>7.000000</td>\n",
       "    </tr>\n",
       "    <tr>\n",
       "      <th>75%</th>\n",
       "      <td>529.000000</td>\n",
       "      <td>22.000000</td>\n",
       "      <td>5.800000</td>\n",
       "      <td>7.700000</td>\n",
       "      <td>7.000000</td>\n",
       "      <td>4.000000</td>\n",
       "      <td>8.000000</td>\n",
       "    </tr>\n",
       "    <tr>\n",
       "      <th>max</th>\n",
       "      <td>705.000000</td>\n",
       "      <td>24.000000</td>\n",
       "      <td>8.500000</td>\n",
       "      <td>9.600000</td>\n",
       "      <td>9.000000</td>\n",
       "      <td>5.000000</td>\n",
       "      <td>9.000000</td>\n",
       "    </tr>\n",
       "  </tbody>\n",
       "</table>\n",
       "</div>"
      ],
      "text/plain": [
       "       Student_ID         Age  Avg_Daily_Usage_Hours  Sleep_Hours_Per_Night  \\\n",
       "count  705.000000  705.000000             705.000000             705.000000   \n",
       "mean   353.000000   20.659574               4.918723               6.868936   \n",
       "std    203.660256    1.399217               1.257395               1.126848   \n",
       "min      1.000000   18.000000               1.500000               3.800000   \n",
       "25%    177.000000   19.000000               4.100000               6.000000   \n",
       "50%    353.000000   21.000000               4.800000               6.900000   \n",
       "75%    529.000000   22.000000               5.800000               7.700000   \n",
       "max    705.000000   24.000000               8.500000               9.600000   \n",
       "\n",
       "       Mental_Health_Score  Conflicts_Over_Social_Media  Addicted_Score  \n",
       "count           705.000000                   705.000000      705.000000  \n",
       "mean              6.226950                     2.849645        6.436879  \n",
       "std               1.105055                     0.957968        1.587165  \n",
       "min               4.000000                     0.000000        2.000000  \n",
       "25%               5.000000                     2.000000        5.000000  \n",
       "50%               6.000000                     3.000000        7.000000  \n",
       "75%               7.000000                     4.000000        8.000000  \n",
       "max               9.000000                     5.000000        9.000000  "
      ]
     },
     "execution_count": 12,
     "metadata": {},
     "output_type": "execute_result"
    }
   ],
   "source": [
    "df.describe() # Gives statistical summary of numerical columns\n"
   ]
  },
  {
   "cell_type": "code",
   "execution_count": 13,
   "id": "47e6c427",
   "metadata": {},
   "outputs": [
    {
     "data": {
      "text/plain": [
       "Student_ID                        int64\n",
       "Age                               int64\n",
       "Gender                           object\n",
       "Academic_Level                   object\n",
       "Country                          object\n",
       "Avg_Daily_Usage_Hours           float64\n",
       "Most_Used_Platform               object\n",
       "Affects_Academic_Performance     object\n",
       "Sleep_Hours_Per_Night           float64\n",
       "Mental_Health_Score               int64\n",
       "Relationship_Status              object\n",
       "Conflicts_Over_Social_Media       int64\n",
       "Addicted_Score                    int64\n",
       "dtype: object"
      ]
     },
     "execution_count": 13,
     "metadata": {},
     "output_type": "execute_result"
    }
   ],
   "source": [
    "df.dtypes # Gives the data types of each column\n"
   ]
  },
  {
   "cell_type": "code",
   "execution_count": 14,
   "id": "212b133c",
   "metadata": {},
   "outputs": [
    {
     "data": {
      "text/plain": [
       "0      19\n",
       "1      22\n",
       "2      20\n",
       "3      18\n",
       "4      21\n",
       "       ..\n",
       "700    20\n",
       "701    23\n",
       "702    21\n",
       "703    24\n",
       "704    19\n",
       "Name: Age, Length: 705, dtype: int64"
      ]
     },
     "execution_count": 14,
     "metadata": {},
     "output_type": "execute_result"
    }
   ],
   "source": [
    "\n",
    "# Accessing a single column\n",
    "df['Age']  # Accessing the 'Age' column\n"
   ]
  },
  {
   "cell_type": "code",
   "execution_count": 15,
   "id": "bb245de7",
   "metadata": {},
   "outputs": [
    {
     "data": {
      "text/plain": [
       "0      19\n",
       "1      22\n",
       "2      20\n",
       "3      18\n",
       "4      21\n",
       "       ..\n",
       "700    20\n",
       "701    23\n",
       "702    21\n",
       "703    24\n",
       "704    19\n",
       "Name: Age, Length: 705, dtype: int64"
      ]
     },
     "execution_count": 15,
     "metadata": {},
     "output_type": "execute_result"
    }
   ],
   "source": [
    "df.Age     # Another way to access the 'Age' column\n"
   ]
  },
  {
   "cell_type": "code",
   "execution_count": 16,
   "id": "eb9d4a13",
   "metadata": {},
   "outputs": [
    {
     "data": {
      "text/html": [
       "<div>\n",
       "<style scoped>\n",
       "    .dataframe tbody tr th:only-of-type {\n",
       "        vertical-align: middle;\n",
       "    }\n",
       "\n",
       "    .dataframe tbody tr th {\n",
       "        vertical-align: top;\n",
       "    }\n",
       "\n",
       "    .dataframe thead th {\n",
       "        text-align: right;\n",
       "    }\n",
       "</style>\n",
       "<table border=\"1\" class=\"dataframe\">\n",
       "  <thead>\n",
       "    <tr style=\"text-align: right;\">\n",
       "      <th></th>\n",
       "      <th>Country</th>\n",
       "      <th>Age</th>\n",
       "    </tr>\n",
       "  </thead>\n",
       "  <tbody>\n",
       "    <tr>\n",
       "      <th>0</th>\n",
       "      <td>Bangladesh</td>\n",
       "      <td>19</td>\n",
       "    </tr>\n",
       "    <tr>\n",
       "      <th>1</th>\n",
       "      <td>India</td>\n",
       "      <td>22</td>\n",
       "    </tr>\n",
       "    <tr>\n",
       "      <th>2</th>\n",
       "      <td>USA</td>\n",
       "      <td>20</td>\n",
       "    </tr>\n",
       "    <tr>\n",
       "      <th>3</th>\n",
       "      <td>UK</td>\n",
       "      <td>18</td>\n",
       "    </tr>\n",
       "    <tr>\n",
       "      <th>4</th>\n",
       "      <td>Canada</td>\n",
       "      <td>21</td>\n",
       "    </tr>\n",
       "    <tr>\n",
       "      <th>...</th>\n",
       "      <td>...</td>\n",
       "      <td>...</td>\n",
       "    </tr>\n",
       "    <tr>\n",
       "      <th>700</th>\n",
       "      <td>Italy</td>\n",
       "      <td>20</td>\n",
       "    </tr>\n",
       "    <tr>\n",
       "      <th>701</th>\n",
       "      <td>Russia</td>\n",
       "      <td>23</td>\n",
       "    </tr>\n",
       "    <tr>\n",
       "      <th>702</th>\n",
       "      <td>China</td>\n",
       "      <td>21</td>\n",
       "    </tr>\n",
       "    <tr>\n",
       "      <th>703</th>\n",
       "      <td>Japan</td>\n",
       "      <td>24</td>\n",
       "    </tr>\n",
       "    <tr>\n",
       "      <th>704</th>\n",
       "      <td>Poland</td>\n",
       "      <td>19</td>\n",
       "    </tr>\n",
       "  </tbody>\n",
       "</table>\n",
       "<p>705 rows × 2 columns</p>\n",
       "</div>"
      ],
      "text/plain": [
       "        Country  Age\n",
       "0    Bangladesh   19\n",
       "1         India   22\n",
       "2           USA   20\n",
       "3            UK   18\n",
       "4        Canada   21\n",
       "..          ...  ...\n",
       "700       Italy   20\n",
       "701      Russia   23\n",
       "702       China   21\n",
       "703       Japan   24\n",
       "704      Poland   19\n",
       "\n",
       "[705 rows x 2 columns]"
      ]
     },
     "execution_count": 16,
     "metadata": {},
     "output_type": "execute_result"
    }
   ],
   "source": [
    "\n",
    "# Accessing multiple columns\n",
    "df[['Country', 'Age']]  # Accessing 'Country' and 'Age' columns"
   ]
  }
 ],
 "metadata": {
  "kernelspec": {
   "display_name": "Python 3",
   "language": "python",
   "name": "python3"
  },
  "language_info": {
   "codemirror_mode": {
    "name": "ipython",
    "version": 3
   },
   "file_extension": ".py",
   "mimetype": "text/x-python",
   "name": "python",
   "nbconvert_exporter": "python",
   "pygments_lexer": "ipython3",
   "version": "3.13.5"
  }
 },
 "nbformat": 4,
 "nbformat_minor": 5
}
